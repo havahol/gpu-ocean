{
 "cells": [
  {
   "cell_type": "markdown",
   "metadata": {},
   "source": [
    "```\n",
    "This notebook sets up and runs a set of benchmarks to compare\n",
    "different numerical discretizations of the SWEs\n",
    "\n",
    "Copyright (C) 2016  SINTEF ICT\n",
    "\n",
    "This program is free software: you can redistribute it and/or modify\n",
    "it under the terms of the GNU General Public License as published by\n",
    "the Free Software Foundation, either version 3 of the License, or\n",
    "(at your option) any later version.\n",
    "\n",
    "This program is distributed in the hope that it will be useful,\n",
    "but WITHOUT ANY WARRANTY; without even the implied warranty of\n",
    "MERCHANTABILITY or FITNESS FOR A PARTICULAR PURPOSE.  See the\n",
    "GNU General Public License for more details.\n",
    "\n",
    "You should have received a copy of the GNU General Public License\n",
    "along with this program.  If not, see <http://www.gnu.org/licenses/>.\n",
    "```"
   ]
  },
  {
   "cell_type": "markdown",
   "metadata": {},
   "source": [
    "#### Import modules and set up environment"
   ]
  },
  {
   "cell_type": "code",
   "execution_count": null,
   "metadata": {
    "collapsed": false
   },
   "outputs": [],
   "source": [
    "#Lets have matplotlib \"inline\"\n",
    "%matplotlib inline\n",
    "%config InlineBackend.figure_format = 'retina'\n",
    "\n",
    "#Import packages we need\n",
    "import numpy as np\n",
    "from matplotlib import animation, rc\n",
    "from matplotlib import pyplot as plt\n",
    "from matplotlib import gridspec\n",
    "\n",
    "\n",
    "import os\n",
    "import pyopencl\n",
    "import datetime\n",
    "import sys\n",
    "\n",
    "#Set large figure sizes\n",
    "rc('figure', figsize=(16.0, 12.0))\n",
    "rc('animation', html='html5')\n",
    "\n",
    "#Import our simulator\n",
    "from SWESimulators import CTCS, CDKLM16, PlotHelper, Common\n",
    "#Import initial condition and bathymetry generating functions:\n",
    "from SWESimulators.BathymetryAndICs import *\n",
    "from SWESimulators import DataAssimilationUtils as dautils\n",
    "\n",
    "from SWESimulators import WindForcingEnsemble"
   ]
  },
  {
   "cell_type": "code",
   "execution_count": null,
   "metadata": {
    "collapsed": false
   },
   "outputs": [],
   "source": [
    "#Make sure we get compiler output from OpenCL\n",
    "os.environ[\"PYOPENCL_COMPILER_OUTPUT\"] = \"1\"\n",
    "\n",
    "#Set which CL device to use, and disable kernel caching\n",
    "if (str.lower(sys.platform).startswith(\"linux\")):\n",
    "    os.environ[\"PYOPENCL_CTX\"] = \"0\"\n",
    "else:\n",
    "    os.environ[\"PYOPENCL_CTX\"] = \"1\"\n",
    "os.environ[\"CUDA_CACHE_DISABLE\"] = \"1\"\n",
    "os.environ[\"PYOPENCL_COMPILER_OUTPUT\"] = \"1\"\n",
    "os.environ[\"PYOPENCL_NO_CACHE\"] = \"1\"\n",
    "\n",
    "#Create OpenCL context\n",
    "cl_ctx = pyopencl.create_some_context()\n",
    "print \"Using \", cl_ctx.devices[0].name"
   ]
  },
  {
   "cell_type": "markdown",
   "metadata": {
    "collapsed": false
   },
   "source": [
    "# The Lorenz Attractor (Lorenz-63)"
   ]
  },
  {
   "cell_type": "code",
   "execution_count": null,
   "metadata": {
    "collapsed": false
   },
   "outputs": [],
   "source": [
    "\n",
    "class Lorenz63Ensemble:\n",
    "        \n",
    "    def __init__(self, cl_ctx, numParticles, \\\n",
    "                 observation_variance=np.sqrt(2), model_error=np.sqrt(2)*0.01, init_error=np.sqrt(2),\\\n",
    "                 T=10):\n",
    "\n",
    "        self.T = T\n",
    "        \n",
    "        self.numParticles = numParticles\n",
    "        self.particles = [None]*(self.numParticles + 1)\n",
    "        \n",
    "        self.obs_index = self.numParticles\n",
    "                \n",
    "        self.observation_variance = observation_variance\n",
    "        self.model_error = model_error\n",
    "        self.init_error = init_error\n",
    "        \n",
    "        # Use parameters from the PJvL-2010 paper\n",
    "        self.dt = 0.01\n",
    "        self.sigma = 10\n",
    "        self.rho = 28\n",
    "        self.beta = 8.0/3.0\n",
    "        self.initValues = [1.508870, -1.531271, 25.46091]\n",
    "        \n",
    "        self.timestep = 0\n",
    "        self.t = 0.0\n",
    "        \n",
    "        self.init()\n",
    "        self.observations = []\n",
    "\n",
    "    # ---------------------------------------\n",
    "    # Override functions we don't need.\n",
    "    # ---------------------------------------       \n",
    "    def cleanUp(self):\n",
    "        pass\n",
    "        \n",
    "    def setGridInfo(self, nx, ny, dx, dy, dt, boundaryConditions, eta=None, hu=None, hv=None, H=None):\n",
    "        pass\n",
    "    \n",
    "    def setParameters(self, f=0, g=9.81, beta=0, r=0, wind=None):\n",
    "        pass\n",
    "    \n",
    "    \n",
    "    # ---------------------------------------\n",
    "    # Needs to be abstract!\n",
    "    # ---------------------------------------\n",
    "    def init(self):\n",
    "        self.max_timesteps = self.T+1\n",
    "        for p in range(self.numParticles+1):\n",
    "            self.particles[p] = np.zeros((3, self.max_timesteps))\n",
    "            self.particles[p][:,0] = np.random.multivariate_normal(self.initValues, np.eye(3)*self.init_error )\n",
    "    \n",
    "    \n",
    "    def observeParticles(self):\n",
    "        positions = np.zeros((3,self.numParticles))\n",
    "        for p in range(self.numParticles):\n",
    "            positions[:,p] = self.particles[p][:,int(self.timestep)]\n",
    "        return positions\n",
    "        \n",
    "    def observeTrueState(self):\n",
    "        obs = np.random.multivariate_normal(self.particles[self.obs_index][:,int(self.timestep)], np.eye(3)*self.observation_variance)\n",
    "        self.observations.append((obs,self.timestep))\n",
    "        return obs\n",
    "    \n",
    "    def step(self, t):\n",
    "        \n",
    "        k_end = min(self.timestep + t, self.max_timesteps-1)\n",
    "        for p in self.particles:\n",
    "            for k in range(int(self.timestep), int(k_end)):\n",
    "                model_error = np.random.multivariate_normal(np.zeros(3), np.eye(3)*self.model_error)\n",
    "                p[0,k+1] = p[0,k] + self.dt*(self.sigma*(p[1,k] - p[0,k])) + model_error[0]\n",
    "                p[1,k+1] = p[1,k] + self.dt*(p[0,k]*(self.rho - p[2,k]) - p[1,k]) + model_error[1]\n",
    "                p[2,k+1] = p[2,k] + self.dt*(p[0,k]*p[1,k] - self.beta*p[2,k]) + model_error[2]\n",
    "        self.timestep = k_end\n",
    "        self.t = k_end*self.dt\n",
    "                \n",
    "    def getDistances(self, obs=None):\n",
    "        return self.sim.drifters.getDistances()\n",
    "       \n",
    "    def resample(self, newSampleIndices, reinitialization_variance):\n",
    "        self.sim.drifters.resample(newSampleIndices, reinitialization_variance)\n",
    "                    \n",
    "    def getEnsembleMean(self):\n",
    "        mean = np.zeros_like(self.particles[0])\n",
    "        for j in range(self.numParticles):\n",
    "            mean += self.particles[j]\n",
    "        mean = mean/self.numParticles\n",
    "        return mean\n",
    "    \n",
    "    def _plot_index(self, i, mean):\n",
    "        particle_number = 0\n",
    "        \n",
    "        t = range(0, self.max_timesteps)\n",
    "        for p in self.particles:\n",
    "            if particle_number != self.obs_index:\n",
    "                plt.plot(t, p[i,:], color=\"0.8\" )\n",
    "            else:\n",
    "                plt.plot(t,p[i,:], 'g')\n",
    "            particle_number += 1\n",
    "        plt.plot(t, mean[i, :], 'r' )\n",
    "        for o in range(len(self.observations)):\n",
    "            plt.plot(ensemble.observations[o][1], ensemble.observations[o][0][i], 'bo')\n",
    "        \n",
    "    \n",
    "    def plotDistanceInfo(self, title=None, obs=None):\n",
    "        mean = self.getEnsembleMean()\n",
    "        fig = plt.figure(figsize=(12,8))\n",
    "        plt.subplot(3,1,1)    \n",
    "        self._plot_index(0, mean)\n",
    "        plt.subplot(3,1,2)    \n",
    "        self._plot_index(1, mean)\n",
    "        plt.subplot(3,1,3)    \n",
    "        self._plot_index(2, mean)\n",
    "        \n",
    "            \n",
    "    def enforceBoundaryConditions(self):\n",
    "        self.sim.drifters.enforceBoundaryConditions()\n",
    "    \n",
    "    ### Duplication of code\n",
    "    def getDomainSizeX(self):\n",
    "        pass\n",
    "    def getDomainSizeY(self):\n",
    "        pass\n",
    "    def getObservationVariance(self):\n",
    "        pass\n",
    "    def getNumParticles(self):\n",
    "        return self.numParticles\n",
    "    \n"
   ]
  },
  {
   "cell_type": "code",
   "execution_count": null,
   "metadata": {
    "collapsed": false
   },
   "outputs": [],
   "source": [
    "T = 1000\n",
    "ensemble = Lorenz63Ensemble(cl_ctx, 10, T=T, model_error=0, init_error=0.001)\n",
    "ensemble.step(T-50)\n",
    "#print ensemble.observeParticles()\n",
    "print ensemble.observeTrueState()\n",
    "ensemble.step(50)\n",
    "ensemble.plotDistanceInfo()\n"
   ]
  },
  {
   "cell_type": "code",
   "execution_count": null,
   "metadata": {
    "collapsed": false
   },
   "outputs": [],
   "source": []
  },
  {
   "cell_type": "code",
   "execution_count": null,
   "metadata": {
    "collapsed": true
   },
   "outputs": [],
   "source": []
  }
 ],
 "metadata": {
  "git": {
   "suppress_outputs": true
  },
  "kernelspec": {
   "display_name": "Python 2",
   "language": "python",
   "name": "python2"
  },
  "language_info": {
   "codemirror_mode": {
    "name": "ipython",
    "version": 2
   },
   "file_extension": ".py",
   "mimetype": "text/x-python",
   "name": "python",
   "nbconvert_exporter": "python",
   "pygments_lexer": "ipython2",
   "version": "2.7.12"
  }
 },
 "nbformat": 4,
 "nbformat_minor": 0
}