{
 "cells": [
  {
   "cell_type": "markdown",
   "metadata": {},
   "source": [
    "# Test Cases for Rotational Shallow-Water Schemes - Software Suppliment "
   ]
  },
  {
   "cell_type": "markdown",
   "metadata": {},
   "source": [
    "This software package is provideded as a suppliment to the paper *Test Cases for Rotation Shallow-Water Schemes* written by Håvard H. Holm, André R. Brodtkorb, Göran Brostöm, Kai. H. Christensen, and Martin L. Sætra."
   ]
  },
  {
   "cell_type": "markdown",
   "metadata": {},
   "source": [
    "## Purpose\n",
    "The main purpose of this software is to provide code that evaluate the test cases presented in the paper, and reproduce the results. As a consequence, the implementation of the four numerical schemes are also provided.\n",
    "\n",
    "The code is written in Python, whereas the numerical schemes are implemented in OpenCL and accessed through the PyOpenCL library.\n",
    "\n",
    "Each case is represented by a Jupyter Notebook. In some cases, two notebooks are provided for a single case, so that one notebook sets up the case and runs the simulations, wheareas the other do the post-processing and plotting. This way, the plots can be adjusted at any time without the need of rerunning the simulations, which may be time consuming depending on your available hardware."
   ]
  },
  {
   "cell_type": "markdown",
   "metadata": {},
   "source": [
    "## Organization of the code\n",
    "The code is organized as follows:\n",
    "- `python/` contains notebooks representing the test cases for rotational shallow-water schemes\n",
    "- `python/SWESimulators` contains python modules for each scheme and a selection of utility classes and functions.\n",
    "- `sim/src/kernels` contains the OpenCL implementations of the numerical schemes"
   ]
  },
  {
   "cell_type": "markdown",
   "metadata": {},
   "source": [
    "## Installation\n",
    "The code has the following requirements:\n",
    "- \n"
   ]
  },
  {
   "cell_type": "markdown",
   "metadata": {},
   "source": [
    "# The test cases\n",
    "- **Case A:** This is really two test cases. First there is the lake-at-rest benchmark, before SWASHES benchmark 4.1.1. Each of them is presented in their own notebook.\n",
    "- **Case B:** Rossby adjustment. One notebook sets up the test, runs the simulations and plots results. The other notebook plots results based on generated or existing simulation results.\n",
    "- **Case C:** Rossby adjustment for different water depths."
   ]
  }
 ],
 "metadata": {
  "kernelspec": {
   "display_name": "Python 2",
   "language": "python",
   "name": "python2"
  },
  "language_info": {
   "codemirror_mode": {
    "name": "ipython",
    "version": 2
   },
   "file_extension": ".py",
   "mimetype": "text/x-python",
   "name": "python",
   "nbconvert_exporter": "python",
   "pygments_lexer": "ipython2",
   "version": "2.7.12"
  }
 },
 "nbformat": 4,
 "nbformat_minor": 2
}
