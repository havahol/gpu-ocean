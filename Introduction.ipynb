{
 "cells": [
  {
   "cell_type": "markdown",
   "metadata": {},
   "source": [
    "# Test Cases for Rotational Shallow-Water Schemes - Software Suppliment "
   ]
  },
  {
   "cell_type": "markdown",
   "metadata": {},
   "source": [
    "This software package is provideded as a suppliment to the paper *Test Cases for Rotation Shallow-Water Schemes* written by Håvard H. Holm, André R. Brodtkorb, Göran Brostöm, Kai. H. Christensen, and Martin L. Sætra."
   ]
  },
  {
   "cell_type": "markdown",
   "metadata": {},
   "source": [
    "## Purpose\n",
    "The main purpose of this software is to provide code that evaluate the test cases presented in the paper, and reproduce the results. As a consequence, the implementation of the four numerical schemes are also provided.\n",
    "\n",
    "The code is written in Python, whereas the numerical schemes are implemented in OpenCL and accessed through the PyOpenCL library.\n",
    "\n",
    "Each case is represented by a Jupyter Notebook. In some cases, two notebooks are provided for a single case, meaning that the first notebook sets up the case and run all simulations, and the second notebook reads the results from file and creates the plots presented in the paper."
   ]
  },
  {
   "cell_type": "markdown",
   "metadata": {},
   "source": [
    "## Organization of the code\n",
    "The code is organized as follows:\n",
    "- `python/` contains notebooks representing the test cases for rotational shallow-water schemes\n",
    "- `python/SWESimulators` contains python modules for each scheme and a selection of utility classes and functions.\n",
    "- `sim/src/kernels` contains the OpenCL implementations of the numerical schemes"
   ]
  },
  {
   "cell_type": "markdown",
   "metadata": {},
   "source": [
    "## Installation\n",
    "The code has the following requirements:\n",
    "- \n"
   ]
  }
 ],
 "metadata": {
  "kernelspec": {
   "display_name": "Python 2",
   "language": "python",
   "name": "python2"
  },
  "language_info": {
   "codemirror_mode": {
    "name": "ipython",
    "version": 2
   },
   "file_extension": ".py",
   "mimetype": "text/x-python",
   "name": "python",
   "nbconvert_exporter": "python",
   "pygments_lexer": "ipython2",
   "version": "2.7.12"
  }
 },
 "nbformat": 4,
 "nbformat_minor": 2
}
